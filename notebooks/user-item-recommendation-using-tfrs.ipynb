{
 "cells": [
  {
   "cell_type": "code",
   "execution_count": 1,
   "id": "38852c7f",
   "metadata": {},
   "outputs": [],
   "source": [
    "import numpy as np\n",
    "import pandas as pd\n",
    "import os\n",
    "import warnings\n",
    "from typing import Dict, Text\n",
    "import tensorflow as tf\n",
    "import tensorflow_recommenders as tfrs"
   ]
  },
  {
   "cell_type": "code",
   "execution_count": 2,
   "id": "d1510508",
   "metadata": {},
   "outputs": [
    {
     "name": "stdout",
     "output_type": "stream",
     "text": [
      "2.10.0\n"
     ]
    }
   ],
   "source": [
    "print(tf. __version__) "
   ]
  },
  {
   "cell_type": "code",
   "execution_count": 3,
   "id": "4c910b75",
   "metadata": {},
   "outputs": [
    {
     "data": {
      "text/html": [
       "<div>\n",
       "<style scoped>\n",
       "    .dataframe tbody tr th:only-of-type {\n",
       "        vertical-align: middle;\n",
       "    }\n",
       "\n",
       "    .dataframe tbody tr th {\n",
       "        vertical-align: top;\n",
       "    }\n",
       "\n",
       "    .dataframe thead th {\n",
       "        text-align: right;\n",
       "    }\n",
       "</style>\n",
       "<table border=\"1\" class=\"dataframe\">\n",
       "  <thead>\n",
       "    <tr style=\"text-align: right;\">\n",
       "      <th></th>\n",
       "      <th>user_id</th>\n",
       "      <th>item</th>\n",
       "      <th>click_rate</th>\n",
       "    </tr>\n",
       "  </thead>\n",
       "  <tbody>\n",
       "    <tr>\n",
       "      <th>0</th>\n",
       "      <td>1</td>\n",
       "      <td>Item01</td>\n",
       "      <td>0.189682</td>\n",
       "    </tr>\n",
       "    <tr>\n",
       "      <th>1</th>\n",
       "      <td>1</td>\n",
       "      <td>Item02</td>\n",
       "      <td>0.043302</td>\n",
       "    </tr>\n",
       "    <tr>\n",
       "      <th>2</th>\n",
       "      <td>1</td>\n",
       "      <td>Item03</td>\n",
       "      <td>0.242269</td>\n",
       "    </tr>\n",
       "    <tr>\n",
       "      <th>3</th>\n",
       "      <td>1</td>\n",
       "      <td>Item04</td>\n",
       "      <td>0.105846</td>\n",
       "    </tr>\n",
       "    <tr>\n",
       "      <th>4</th>\n",
       "      <td>1</td>\n",
       "      <td>Item05</td>\n",
       "      <td>0.035231</td>\n",
       "    </tr>\n",
       "    <tr>\n",
       "      <th>5</th>\n",
       "      <td>1</td>\n",
       "      <td>Item06</td>\n",
       "      <td>0.010828</td>\n",
       "    </tr>\n",
       "    <tr>\n",
       "      <th>6</th>\n",
       "      <td>1</td>\n",
       "      <td>Item07</td>\n",
       "      <td>0.006826</td>\n",
       "    </tr>\n",
       "    <tr>\n",
       "      <th>7</th>\n",
       "      <td>1</td>\n",
       "      <td>Item08</td>\n",
       "      <td>0.234307</td>\n",
       "    </tr>\n",
       "    <tr>\n",
       "      <th>8</th>\n",
       "      <td>1</td>\n",
       "      <td>Item09</td>\n",
       "      <td>0.212547</td>\n",
       "    </tr>\n",
       "  </tbody>\n",
       "</table>\n",
       "</div>"
      ],
      "text/plain": [
       "  user_id    item  click_rate\n",
       "0       1  Item01    0.189682\n",
       "1       1  Item02    0.043302\n",
       "2       1  Item03    0.242269\n",
       "3       1  Item04    0.105846\n",
       "4       1  Item05    0.035231\n",
       "5       1  Item06    0.010828\n",
       "6       1  Item07    0.006826\n",
       "7       1  Item08    0.234307\n",
       "8       1  Item09    0.212547"
      ]
     },
     "execution_count": 3,
     "metadata": {},
     "output_type": "execute_result"
    }
   ],
   "source": [
    "dataset = pd.read_csv('\\data\\user-item-data.csv')\n",
    "dataset.drop(['duration_rate'], axis=1, inplace=True)\n",
    "dataset.rename(columns = {'item_id':'item'}, inplace = True)\n",
    "dataset = dataset.astype({'user_id':'string', 'item': 'string'})\n",
    "dataset['click_rate'] = dataset['click_rate'].astype(np.float32)\n",
    "dataset.head(9)"
   ]
  },
  {
   "cell_type": "code",
   "execution_count": 4,
   "id": "169ec3ae",
   "metadata": {},
   "outputs": [
    {
     "name": "stdout",
     "output_type": "stream",
     "text": [
      "<class 'pandas.core.frame.DataFrame'>\n",
      "RangeIndex: 225000 entries, 0 to 224999\n",
      "Data columns (total 3 columns):\n",
      " #   Column      Non-Null Count   Dtype  \n",
      "---  ------      --------------   -----  \n",
      " 0   user_id     225000 non-null  string \n",
      " 1   item        225000 non-null  string \n",
      " 2   click_rate  225000 non-null  float32\n",
      "dtypes: float32(1), string(2)\n",
      "memory usage: 4.3 MB\n"
     ]
    }
   ],
   "source": [
    "dataset.info()"
   ]
  },
  {
   "cell_type": "code",
   "execution_count": null,
   "id": "ba984d1a",
   "metadata": {},
   "outputs": [],
   "source": [
    "# df = dataset[:9]\n",
    "# df.head(9)\n",
    "# ds = tf.data.Dataset.from_tensor_slices(dict(df))\n",
    "\n",
    "# for row in ds.take(1):\n",
    "#     print(row)\n",
    "\n",
    "#resultset\n",
    "#{'user_id': <tf.Tensor: shape=(), dtype=string, numpy=b'1'>, 'item': <tf.Tensor: shape=(), dtype=string, numpy=b'AccountView'>, 'click_rate': <tf.Tensor: shape=(), dtype=float32, numpy=0.18968216>}"
   ]
  },
  {
   "cell_type": "code",
   "execution_count": 5,
   "id": "b9983db6",
   "metadata": {},
   "outputs": [],
   "source": [
    "ds = tf.data.Dataset.from_tensor_slices(dict(dataset))"
   ]
  },
  {
   "cell_type": "code",
   "execution_count": 6,
   "id": "3933be36",
   "metadata": {},
   "outputs": [],
   "source": [
    "tf.random.set_seed(42)\n",
    "shuffled = ds.shuffle(100_000, seed=42, reshuffle_each_iteration=False)\n",
    "\n",
    "train = shuffled.take(80_000)\n",
    "test = shuffled.skip(80_000).take(20_000)"
   ]
  },
  {
   "cell_type": "code",
   "execution_count": 7,
   "id": "f676c412",
   "metadata": {},
   "outputs": [],
   "source": [
    "items = ds.batch(1_000_000).map(lambda x: x[\"item\"])\n",
    "user_ids = ds.batch(1_000_000).map(lambda x: x[\"user_id\"])\n",
    "\n",
    "unique_items = np.unique(np.concatenate(list(items)))\n",
    "unique_user_ids = np.unique(np.concatenate(list(user_ids)))"
   ]
  },
  {
   "cell_type": "code",
   "execution_count": 8,
   "id": "cb1d9884",
   "metadata": {},
   "outputs": [
    {
     "name": "stdout",
     "output_type": "stream",
     "text": [
      "[b'Item01' b'Item02' b'Item03' b'Item04' b'Item05' b'Item06' b'Item07'\n",
      " b'Item08' b'Item09']\n"
     ]
    }
   ],
   "source": [
    "print(unique_items[:9])"
   ]
  },
  {
   "cell_type": "code",
   "execution_count": 9,
   "id": "904ecd3c",
   "metadata": {},
   "outputs": [
    {
     "name": "stdout",
     "output_type": "stream",
     "text": [
      "[b'1' b'10' b'100' b'1000' b'10000' b'10001' b'10002' b'10003' b'10004'\n",
      " b'10005']\n"
     ]
    }
   ],
   "source": [
    "print(unique_user_ids[:10])"
   ]
  },
  {
   "cell_type": "code",
   "execution_count": 10,
   "id": "dc13c70b",
   "metadata": {},
   "outputs": [],
   "source": [
    "class RankingModel(tf.keras.Model):\n",
    "    \n",
    "    def __init__(self):\n",
    "        super().__init__()\n",
    "        embedding_dimension = 32\n",
    "\n",
    "        # Compute embeddings for users.\n",
    "        self.user_embeddings = tf.keras.Sequential([\n",
    "          tf.keras.layers.StringLookup(\n",
    "            vocabulary=unique_user_ids, mask_token=None),\n",
    "          tf.keras.layers.Embedding(len(unique_user_ids) + 1, embedding_dimension)\n",
    "        ])\n",
    "\n",
    "        # Compute embeddings for movies.\n",
    "        self.item_embeddings = tf.keras.Sequential([\n",
    "          tf.keras.layers.StringLookup(\n",
    "            vocabulary=unique_items, mask_token=None),\n",
    "          tf.keras.layers.Embedding(len(unique_items) + 1, embedding_dimension)\n",
    "        ])\n",
    "\n",
    "        # Compute predictions.\n",
    "        self.ratings = tf.keras.Sequential([\n",
    "          # Learn multiple dense layers.\n",
    "          tf.keras.layers.Dense(256, activation=\"relu\"),\n",
    "          tf.keras.layers.Dense(64, activation=\"relu\"),\n",
    "          # Make rating predictions in the final layer.\n",
    "          tf.keras.layers.Dense(1)\n",
    "      ])\n",
    "\n",
    "    def call(self, inputs):\n",
    "        \n",
    "        user_id, item = inputs\n",
    "\n",
    "        user_embedding = self.user_embeddings(user_id)\n",
    "        item_embedding = self.item_embeddings(item)\n",
    "\n",
    "        return self.ratings(tf.concat([user_embedding, item_embedding], axis=1))"
   ]
  },
  {
   "cell_type": "code",
   "execution_count": 11,
   "id": "64e0428d",
   "metadata": {},
   "outputs": [
    {
     "name": "stdout",
     "output_type": "stream",
     "text": [
      "WARNING:tensorflow:Layers in a Sequential model should only have a single input tensor. Received: inputs=['10006']. Consider rewriting this model with the Functional API.\n",
      "WARNING:tensorflow:Layers in a Sequential model should only have a single input tensor. Received: inputs=['Item07']. Consider rewriting this model with the Functional API.\n"
     ]
    },
    {
     "data": {
      "text/plain": [
       "<tf.Tensor: shape=(1, 1), dtype=float32, numpy=array([[0.03095034]], dtype=float32)>"
      ]
     },
     "execution_count": 11,
     "metadata": {},
     "output_type": "execute_result"
    }
   ],
   "source": [
    "RankingModel()(([\"10006\"], [\"Item07\"]))"
   ]
  },
  {
   "cell_type": "code",
   "execution_count": 12,
   "id": "6c93910c",
   "metadata": {},
   "outputs": [],
   "source": [
    "task = tfrs.tasks.Ranking(\n",
    "  loss = tf.keras.losses.MeanSquaredError(),\n",
    "  metrics=[tf.keras.metrics.RootMeanSquaredError()]\n",
    ")"
   ]
  },
  {
   "cell_type": "code",
   "execution_count": 13,
   "id": "62481687",
   "metadata": {},
   "outputs": [],
   "source": [
    "class MLRecommenderModel(tfrs.models.Model):\n",
    "    \n",
    "    def __init__(self):\n",
    "        super().__init__()\n",
    "        self.ranking_model: tf.keras.Model = RankingModel()\n",
    "        self.task: tf.keras.layers.Layer = tfrs.tasks.Ranking(\n",
    "          loss = tf.keras.losses.MeanSquaredError(),\n",
    "          metrics=[tf.keras.metrics.RootMeanSquaredError()]\n",
    "        )\n",
    "\n",
    "    def call(self, features: Dict[str, tf.Tensor]) -> tf.Tensor:\n",
    "        return self.ranking_model((features[\"user_id\"], features[\"item\"]))\n",
    "\n",
    "    def compute_loss(self, features: Dict[Text, tf.Tensor], training=False) -> tf.Tensor:\n",
    "        labels = features.pop(\"click_rate\")\n",
    "\n",
    "        rating_predictions = self(features)\n",
    "\n",
    "        # The task computes the loss and the metrics.\n",
    "        return self.task(labels=labels, predictions=rating_predictions)"
   ]
  },
  {
   "cell_type": "code",
   "execution_count": 14,
   "id": "a00e47f1",
   "metadata": {},
   "outputs": [],
   "source": [
    "model = MLRecommenderModel()\n",
    "model.compile(optimizer=tf.keras.optimizers.Adagrad(learning_rate=0.1))"
   ]
  },
  {
   "cell_type": "code",
   "execution_count": 15,
   "id": "e32c5ea4",
   "metadata": {},
   "outputs": [],
   "source": [
    "cached_train = train.shuffle(100_000).batch(8192).cache()\n",
    "cached_test = test.batch(4096).cache()"
   ]
  },
  {
   "cell_type": "code",
   "execution_count": 16,
   "id": "85a2bfd1",
   "metadata": {},
   "outputs": [
    {
     "name": "stdout",
     "output_type": "stream",
     "text": [
      "Epoch 1/5\n",
      "10/10 [==============================] - 4s 28ms/step - root_mean_squared_error: 0.0844 - loss: 0.0069 - regularization_loss: 0.0000e+00 - total_loss: 0.0069\n",
      "Epoch 2/5\n",
      "10/10 [==============================] - 0s 7ms/step - root_mean_squared_error: 0.0728 - loss: 0.0053 - regularization_loss: 0.0000e+00 - total_loss: 0.0053\n",
      "Epoch 3/5\n",
      "10/10 [==============================] - 0s 7ms/step - root_mean_squared_error: 0.0727 - loss: 0.0053 - regularization_loss: 0.0000e+00 - total_loss: 0.0053\n",
      "Epoch 4/5\n",
      "10/10 [==============================] - 0s 7ms/step - root_mean_squared_error: 0.0727 - loss: 0.0053 - regularization_loss: 0.0000e+00 - total_loss: 0.0053\n",
      "Epoch 5/5\n",
      "10/10 [==============================] - 0s 7ms/step - root_mean_squared_error: 0.0726 - loss: 0.0053 - regularization_loss: 0.0000e+00 - total_loss: 0.0053\n"
     ]
    },
    {
     "data": {
      "text/plain": [
       "<keras.callbacks.History at 0x1c8b1f27048>"
      ]
     },
     "execution_count": 16,
     "metadata": {},
     "output_type": "execute_result"
    }
   ],
   "source": [
    "model.fit(cached_train, epochs=5)"
   ]
  },
  {
   "cell_type": "code",
   "execution_count": 17,
   "id": "2a5ff3a6",
   "metadata": {},
   "outputs": [
    {
     "name": "stdout",
     "output_type": "stream",
     "text": [
      "5/5 [==============================] - 1s 51ms/step - root_mean_squared_error: 0.0726 - loss: 0.0053 - regularization_loss: 0.0000e+00 - total_loss: 0.0053\n"
     ]
    },
    {
     "data": {
      "text/plain": [
       "{'root_mean_squared_error': 0.0725601464509964,\n",
       " 'loss': 0.005259113851934671,\n",
       " 'regularization_loss': 0,\n",
       " 'total_loss': 0.005259113851934671}"
      ]
     },
     "execution_count": 17,
     "metadata": {},
     "output_type": "execute_result"
    }
   ],
   "source": [
    "model.evaluate(cached_test, return_dict=True)"
   ]
  },
  {
   "cell_type": "code",
   "execution_count": 18,
   "id": "c7e3c5a9",
   "metadata": {},
   "outputs": [
    {
     "name": "stdout",
     "output_type": "stream",
     "text": [
      "Ratings:\n",
      "Item01: [[0.12994401]]\n",
      "Item02: [[0.1227464]]\n",
      "Item03: [[0.12235735]]\n"
     ]
    }
   ],
   "source": [
    "test_ratings = {}\n",
    "test_items = [\"Item01\", \"Item02\", \"Item03\"]\n",
    "for item in test_items:\n",
    "    test_ratings[item] = model({\n",
    "          \"user_id\": np.array([\"10006\"]),\n",
    "          \"item\": np.array([item])\n",
    "      })\n",
    "\n",
    "print(\"Ratings:\")\n",
    "for title, score in sorted(test_ratings.items(), key=lambda x: x[1], reverse=True):\n",
    "  print(f\"{title}: {score}\")"
   ]
  },
  {
   "cell_type": "code",
   "execution_count": 19,
   "id": "3447e7e8",
   "metadata": {},
   "outputs": [
    {
     "name": "stderr",
     "output_type": "stream",
     "text": [
      "WARNING:absl:Found untraced functions such as ranking_1_layer_call_fn, ranking_1_layer_call_and_return_conditional_losses while saving (showing 2 of 2). These functions will not be directly callable after loading.\n"
     ]
    },
    {
     "name": "stdout",
     "output_type": "stream",
     "text": [
      "INFO:tensorflow:Assets written to: C:\\DS-development\\GitHub\\ML-Recommendation-Tensorflow\\models\\export\\assets\n"
     ]
    },
    {
     "name": "stderr",
     "output_type": "stream",
     "text": [
      "INFO:tensorflow:Assets written to: C:\\DS-development\\GitHub\\ML-Recommendation-Tensorflow\\models\\export\\assets\n"
     ]
    }
   ],
   "source": [
    "tf.saved_model.save(model, \"\\models\\export\")"
   ]
  },
  {
   "cell_type": "code",
   "execution_count": 20,
   "id": "272cffe1",
   "metadata": {},
   "outputs": [
    {
     "data": {
      "text/plain": [
       "array([[0.13206184]], dtype=float32)"
      ]
     },
     "execution_count": 20,
     "metadata": {},
     "output_type": "execute_result"
    }
   ],
   "source": [
    "loaded = tf.saved_model.load(\"\\models\\export\")\n",
    "\n",
    "loaded({\"user_id\": np.array([\"600\"]), \"item\": [\"Item06\"]}).numpy()"
   ]
  },
  {
   "cell_type": "code",
   "execution_count": 21,
   "id": "d96077a3",
   "metadata": {},
   "outputs": [
    {
     "data": {
      "text/plain": [
       "3753000"
      ]
     },
     "execution_count": 21,
     "metadata": {},
     "output_type": "execute_result"
    }
   ],
   "source": [
    "converter = tf.lite.TFLiteConverter.from_saved_model(\"\\models\\export\")\n",
    "tflite_model = converter.convert()\n",
    "open(\"\\models\\tflite\\converted_model.tflite\", \"wb\").write(tflite_model)"
   ]
  },
  {
   "cell_type": "code",
   "execution_count": 22,
   "id": "f200ae67",
   "metadata": {},
   "outputs": [
    {
     "name": "stdout",
     "output_type": "stream",
     "text": [
      "[[0.13206184]]\n"
     ]
    }
   ],
   "source": [
    "interpreter = tf.lite.Interpreter(model_path=\"\\models\\tflite\\converted_model.tflite\")\n",
    "interpreter.allocate_tensors()\n",
    "\n",
    "# Get input and output tensors.\n",
    "input_details = interpreter.get_input_details()\n",
    "output_details = interpreter.get_output_details()\n",
    "\n",
    "# Test the model.\n",
    "if input_details[0][\"name\"] == \"serving_default_item:0\":\n",
    "    interpreter.set_tensor(input_details[0][\"index\"], np.array([\"Item06\"]))\n",
    "    interpreter.set_tensor(input_details[1][\"index\"], np.array([\"600\"]))\n",
    "else:\n",
    "    interpreter.set_tensor(input_details[0][\"index\"], np.array([\"600\"]))\n",
    "    interpreter.set_tensor(input_details[1][\"index\"], np.array([\"Item06\"]))\n",
    "\n",
    "interpreter.invoke()\n",
    "\n",
    "rating = interpreter.get_tensor(output_details[0]['index'])\n",
    "print(rating)"
   ]
  },
  {
   "cell_type": "code",
   "execution_count": 23,
   "id": "0438ceec",
   "metadata": {},
   "outputs": [
    {
     "name": "stdout",
     "output_type": "stream",
     "text": [
      "[{'name': 'serving_default_item:0', 'index': 0, 'shape': array([1]), 'shape_signature': array([-1]), 'dtype': <class 'numpy.bytes_'>, 'quantization': (0.0, 0), 'quantization_parameters': {'scales': array([], dtype=float32), 'zero_points': array([], dtype=int32), 'quantized_dimension': 0}, 'sparsity_parameters': {}}, {'name': 'serving_default_user_id:0', 'index': 1, 'shape': array([1]), 'shape_signature': array([-1]), 'dtype': <class 'numpy.bytes_'>, 'quantization': (0.0, 0), 'quantization_parameters': {'scales': array([], dtype=float32), 'zero_points': array([], dtype=int32), 'quantized_dimension': 0}, 'sparsity_parameters': {}}]\n"
     ]
    }
   ],
   "source": [
    "print(input_details)"
   ]
  }
 ],
 "metadata": {
  "kernelspec": {
   "display_name": "Python 3.7.1 ('tf')",
   "language": "python",
   "name": "python3"
  },
  "language_info": {
   "codemirror_mode": {
    "name": "ipython",
    "version": 3
   },
   "file_extension": ".py",
   "mimetype": "text/x-python",
   "name": "python",
   "nbconvert_exporter": "python",
   "pygments_lexer": "ipython3",
   "version": "3.7.1"
  },
  "vscode": {
   "interpreter": {
    "hash": "8ce354f4425b4874a38101eee102b860a0de726fb01672cc4cf3d80c15d64a08"
   }
  }
 },
 "nbformat": 4,
 "nbformat_minor": 5
}
